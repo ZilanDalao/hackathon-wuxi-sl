{
 "cells": [
  {
   "cell_type": "code",
   "execution_count": 117,
   "metadata": {
    "id": "igMyGnjE9hEp",
    "pycharm": {
     "name": "#%%\n"
    }
   },
   "outputs": [],
   "source": [
    "import csv\n",
    "\n",
    "import numpy as np\n",
    "import pandas as pd\n",
    "import tensorflow as tf\n",
    "from sklearn.model_selection import train_test_split\n",
    "import nltk\n",
    "\n",
    "RANDOM_SEED = 42\n",
    "# nltk.download('averaged_perceptron_tagger')"
   ]
  },
  {
   "cell_type": "markdown",
   "metadata": {
    "id": "t2HDvhIu9hEr",
    "pycharm": {
     "name": "#%% md\n"
    }
   },
   "source": [
    "# Specify each path"
   ]
  },
  {
   "cell_type": "code",
   "execution_count": 118,
   "metadata": {
    "id": "9NvZP2Zn9hEy",
    "pycharm": {
     "name": "#%%\n"
    }
   },
   "outputs": [],
   "source": [
    "# Specify data paths\n",
    "dataset = 'model/keypoint_classifier/keypoint.csv'\n",
    "model_save_path = 'model/keypoint_classifier/keypoint_classifier.hdf5'\n",
    "tflite_save_path = 'model/keypoint_classifier/keypoint_classifier.tflite'"
   ]
  },
  {
   "cell_type": "markdown",
   "metadata": {
    "id": "s5oMH7x19hEz",
    "pycharm": {
     "name": "#%% md\n"
    }
   },
   "source": [
    "# Set number of classes"
   ]
  },
  {
   "cell_type": "code",
   "execution_count": 119,
   "metadata": {
    "id": "du4kodXL9hEz",
    "pycharm": {
     "name": "#%%\n"
    }
   },
   "outputs": [],
   "source": [
    "# Change training classes if necessary\n",
    "# NUM_CLASSES = 3"
   ]
  },
  {
   "cell_type": "markdown",
   "metadata": {
    "id": "XjnL0uso9hEz",
    "pycharm": {
     "name": "#%% md\n"
    }
   },
   "source": [
    "# Dataset reading"
   ]
  },
  {
   "cell_type": "code",
   "execution_count": 120,
   "metadata": {
    "id": "QT5ZqtEz9hE0",
    "pycharm": {
     "name": "#%%\n"
    }
   },
   "outputs": [],
   "source": [
    "X_dataset = np.loadtxt(dataset, delimiter=',', dtype='float32', usecols=list(range(1, (21 * 2) + 1)))"
   ]
  },
  {
   "cell_type": "code",
   "execution_count": 121,
   "metadata": {
    "id": "QmoKFsp49hE0",
    "pycharm": {
     "name": "#%%\n"
    }
   },
   "outputs": [],
   "source": [
    "y_dataset = np.loadtxt(dataset, delimiter=',', dtype='int32', usecols=(0))"
   ]
  },
  {
   "cell_type": "code",
   "execution_count": 122,
   "metadata": {
    "id": "xQU7JTZ_9hE0",
    "pycharm": {
     "name": "#%%\n"
    }
   },
   "outputs": [],
   "source": [
    "X_train, X_test, y_train, y_test = train_test_split(X_dataset, y_dataset, train_size=0.75, random_state=RANDOM_SEED)"
   ]
  },
  {
   "cell_type": "code",
   "execution_count": 123,
   "metadata": {
    "colab": {
     "base_uri": "https://localhost:8080/",
     "height": 279
    },
    "id": "xElG5FoPDQO9",
    "outputId": "2ef372ed-62e3-49c1-ad36-a5b5dc76701a",
    "pycharm": {
     "name": "#%%\n"
    }
   },
   "outputs": [
    {
     "name": "stdout",
     "output_type": "stream",
     "text": [
      "(array([0, 1, 2]), array([21, 18, 16], dtype=int64))\n"
     ]
    },
    {
     "data": {
      "text/plain": "<Figure size 640x480 with 1 Axes>",
      "image/png": "[encoded data removed]"
     },
     "metadata": {},
     "output_type": "display_data"
    }
   ],
   "source": [
    "# Classes count\n",
    "counts = np.unique(y_dataset, return_counts=True)\n",
    "df = pd.DataFrame(counts)\n",
    "df.T.plot(kind=\"bar\", stacked=True)\n",
    "print(counts)"
   ]
  },
  {
   "cell_type": "code",
   "execution_count": 124,
   "outputs": [
    {
     "data": {
      "text/plain": "3"
     },
     "execution_count": 124,
     "metadata": {},
     "output_type": "execute_result"
    }
   ],
   "source": [
    "NUM_CLASSES = len(counts[0])\n",
    "NUM_CLASSES"
   ],
   "metadata": {
    "collapsed": false,
    "pycharm": {
     "name": "#%%\n"
    }
   }
  },
  {
   "cell_type": "markdown",
   "metadata": {
    "id": "mxK_lETT9hE0",
    "pycharm": {
     "name": "#%% md\n"
    }
   },
   "source": [
    "# Model building"
   ]
  },
  {
   "cell_type": "code",
   "execution_count": 125,
   "metadata": {
    "id": "vHBmUf1t9hE1",
    "pycharm": {
     "name": "#%%\n"
    }
   },
   "outputs": [],
   "source": [
    "model = tf.keras.models.Sequential([\n",
    "    tf.keras.layers.Input((21 * 2, )),\n",
    "    tf.keras.layers.Dropout(0.0),\n",
    "    tf.keras.layers.Dense(32, activation='relu'),\n",
    "    tf.keras.layers.Dropout(0.0),\n",
    "    tf.keras.layers.Dense(32, activation='relu'),\n",
    "    tf.keras.layers.Dropout(0.0),\n",
    "    tf.keras.layers.Dense(16, activation='relu'),\n",
    "    tf.keras.layers.Dense(NUM_CLASSES, activation='softmax')\n",
    "])"
   ]
  },
  {
   "cell_type": "code",
   "execution_count": 126,
   "metadata": {
    "colab": {
     "base_uri": "https://localhost:8080/"
    },
    "id": "ypqky9tc9hE1",
    "outputId": "c42f3550-ceee-45b8-d40d-d99fd84a2616",
    "pycharm": {
     "name": "#%%\n"
    }
   },
   "outputs": [
    {
     "name": "stdout",
     "output_type": "stream",
     "text": [
      "Model: \"sequential\"\n",
      "_________________________________________________________________\n",
      "Layer (type)                 Output Shape              Param #   \n",
      "=================================================================\n",
      "dropout_3 (Dropout)          (None, 42)                0         \n",
      "_________________________________________________________________\n",
      "dense_3 (Dense)              (None, 32)                1376      \n",
      "_________________________________________________________________\n",
      "dropout_4 (Dropout)          (None, 32)                0         \n",
      "_________________________________________________________________\n",
      "dense_4 (Dense)              (None, 32)                1056      \n",
      "_________________________________________________________________\n",
      "dropout_5 (Dropout)          (None, 32)                0         \n",
      "_________________________________________________________________\n",
      "dense_5 (Dense)              (None, 16)                528       \n",
      "_________________________________________________________________\n",
      "dense_6 (Dense)              (None, 3)                 51        \n",
      "=================================================================\n",
      "Total params: 3,011\n",
      "Trainable params: 3,011\n",
      "Non-trainable params: 0\n",
      "_________________________________________________________________\n"
     ]
    }
   ],
   "source": [
    "model.summary()  # tf.keras.utils.plot_model(model, show_shapes=True)"
   ]
  },
  {
   "cell_type": "code",
   "execution_count": 127,
   "metadata": {
    "id": "MbMjOflQ9hE1",
    "pycharm": {
     "name": "#%%\n"
    }
   },
   "outputs": [],
   "source": [
    "# Model checkpoint callback\n",
    "cp_callback = tf.keras.callbacks.ModelCheckpoint(\n",
    "    model_save_path, verbose=1, save_weights_only=False, save_best_only=True)\n",
    "# Callback for early stopping\n",
    "es_callback = tf.keras.callbacks.EarlyStopping(patience=50, verbose=1)"
   ]
  },
  {
   "cell_type": "code",
   "execution_count": 128,
   "metadata": {
    "id": "c3Dac0M_9hE2",
    "pycharm": {
     "name": "#%%\n"
    }
   },
   "outputs": [],
   "source": [
    "# Model compilation\n",
    "model.compile(\n",
    "    optimizer='adam',\n",
    "    loss='sparse_categorical_crossentropy',\n",
    "    metrics=['accuracy']\n",
    ")"
   ]
  },
  {
   "cell_type": "markdown",
   "metadata": {
    "id": "7XI0j1Iu9hE2",
    "pycharm": {
     "name": "#%% md\n"
    }
   },
   "source": [
    "# Model training"
   ]
  },
  {
   "cell_type": "code",
   "execution_count": 129,
   "metadata": {
    "id": "WirBl-JE9hE3",
    "scrolled": true,
    "pycharm": {
     "name": "#%%\n"
    }
   },
   "outputs": [
    {
     "name": "stdout",
     "output_type": "stream",
     "text": [
      "Epoch 1/100\n",
      "1/1 [==============================] - 1s 901ms/step - loss: 1.2653 - accuracy: 0.0000e+00 - val_loss: 1.2456 - val_accuracy: 0.0000e+00\n",
      "\n",
      "Epoch 00001: val_loss improved from inf to 1.24565, saving model to model/keypoint_classifier\\keypoint_classifier.hdf5\n",
      "Epoch 2/100\n",
      "1/1 [==============================] - 0s 77ms/step - loss: 1.2358 - accuracy: 0.0488 - val_loss: 1.2168 - val_accuracy: 0.0000e+00\n",
      "\n",
      "Epoch 00002: val_loss improved from 1.24565 to 1.21677, saving model to model/keypoint_classifier\\keypoint_classifier.hdf5\n",
      "Epoch 3/100\n",
      "1/1 [==============================] - 0s 58ms/step - loss: 1.2080 - accuracy: 0.0488 - val_loss: 1.1888 - val_accuracy: 0.0000e+00\n",
      "\n",
      "Epoch 00003: val_loss improved from 1.21677 to 1.18876, saving model to model/keypoint_classifier\\keypoint_classifier.hdf5\n",
      "Epoch 4/100\n",
      "1/1 [==============================] - 0s 58ms/step - loss: 1.1813 - accuracy: 0.0732 - val_loss: 1.1624 - val_accuracy: 0.0714\n",
      "\n",
      "Epoch 00004: val_loss improved from 1.18876 to 1.16236, saving model to model/keypoint_classifier\\keypoint_classifier.hdf5\n",
      "Epoch 5/100\n",
      "1/1 [==============================] - 0s 52ms/step - loss: 1.1558 - accuracy: 0.0976 - val_loss: 1.1389 - val_accuracy: 0.1429\n",
      "\n",
      "Epoch 00005: val_loss improved from 1.16236 to 1.13889, saving model to model/keypoint_classifier\\keypoint_classifier.hdf5\n",
      "Epoch 6/100\n",
      "1/1 [==============================] - 0s 52ms/step - loss: 1.1324 - accuracy: 0.2195 - val_loss: 1.1166 - val_accuracy: 0.3571\n",
      "\n",
      "Epoch 00006: val_loss improved from 1.13889 to 1.11661, saving model to model/keypoint_classifier\\keypoint_classifier.hdf5\n",
      "Epoch 7/100\n",
      "1/1 [==============================] - 0s 47ms/step - loss: 1.1101 - accuracy: 0.3415 - val_loss: 1.0945 - val_accuracy: 0.3571\n",
      "\n",
      "Epoch 00007: val_loss improved from 1.11661 to 1.09450, saving model to model/keypoint_classifier\\keypoint_classifier.hdf5\n",
      "Epoch 8/100\n",
      "1/1 [==============================] - 0s 68ms/step - loss: 1.0878 - accuracy: 0.3902 - val_loss: 1.0733 - val_accuracy: 0.3571\n",
      "\n",
      "Epoch 00008: val_loss improved from 1.09450 to 1.07325, saving model to model/keypoint_classifier\\keypoint_classifier.hdf5\n",
      "Epoch 9/100\n",
      "1/1 [==============================] - 0s 57ms/step - loss: 1.0662 - accuracy: 0.3902 - val_loss: 1.0525 - val_accuracy: 0.3571\n",
      "\n",
      "Epoch 00009: val_loss improved from 1.07325 to 1.05250, saving model to model/keypoint_classifier\\keypoint_classifier.hdf5\n",
      "Epoch 10/100\n",
      "1/1 [==============================] - 0s 57ms/step - loss: 1.0462 - accuracy: 0.3902 - val_loss: 1.0343 - val_accuracy: 0.5714\n",
      "\n",
      "Epoch 00010: val_loss improved from 1.05250 to 1.03433, saving model to model/keypoint_classifier\\keypoint_classifier.hdf5\n",
      "Epoch 11/100\n",
      "1/1 [==============================] - 0s 51ms/step - loss: 1.0285 - accuracy: 0.4390 - val_loss: 1.0195 - val_accuracy: 0.6429\n",
      "\n",
      "Epoch 00011: val_loss improved from 1.03433 to 1.01948, saving model to model/keypoint_classifier\\keypoint_classifier.hdf5\n",
      "Epoch 12/100\n",
      "1/1 [==============================] - 0s 54ms/step - loss: 1.0128 - accuracy: 0.5122 - val_loss: 1.0045 - val_accuracy: 0.6429\n",
      "\n",
      "Epoch 00012: val_loss improved from 1.01948 to 1.00453, saving model to model/keypoint_classifier\\keypoint_classifier.hdf5\n",
      "Epoch 13/100\n",
      "1/1 [==============================] - 0s 53ms/step - loss: 0.9971 - accuracy: 0.5366 - val_loss: 0.9887 - val_accuracy: 0.6429\n",
      "\n",
      "Epoch 00013: val_loss improved from 1.00453 to 0.98869, saving model to model/keypoint_classifier\\keypoint_classifier.hdf5\n",
      "Epoch 14/100\n",
      "1/1 [==============================] - 0s 58ms/step - loss: 0.9809 - accuracy: 0.6098 - val_loss: 0.9733 - val_accuracy: 0.6429\n",
      "\n",
      "Epoch 00014: val_loss improved from 0.98869 to 0.97325, saving model to model/keypoint_classifier\\keypoint_classifier.hdf5\n",
      "Epoch 15/100\n",
      "1/1 [==============================] - 0s 57ms/step - loss: 0.9648 - accuracy: 0.7317 - val_loss: 0.9578 - val_accuracy: 0.8571\n",
      "\n",
      "Epoch 00015: val_loss improved from 0.97325 to 0.95784, saving model to model/keypoint_classifier\\keypoint_classifier.hdf5\n",
      "Epoch 16/100\n",
      "1/1 [==============================] - 0s 53ms/step - loss: 0.9494 - accuracy: 0.9268 - val_loss: 0.9429 - val_accuracy: 1.0000\n",
      "\n",
      "Epoch 00016: val_loss improved from 0.95784 to 0.94293, saving model to model/keypoint_classifier\\keypoint_classifier.hdf5\n",
      "Epoch 17/100\n",
      "1/1 [==============================] - 0s 44ms/step - loss: 0.9346 - accuracy: 0.9268 - val_loss: 0.9283 - val_accuracy: 1.0000\n",
      "\n",
      "Epoch 00017: val_loss improved from 0.94293 to 0.92829, saving model to model/keypoint_classifier\\keypoint_classifier.hdf5\n",
      "Epoch 18/100\n",
      "1/1 [==============================] - 0s 47ms/step - loss: 0.9205 - accuracy: 0.9268 - val_loss: 0.9136 - val_accuracy: 1.0000\n",
      "\n",
      "Epoch 00018: val_loss improved from 0.92829 to 0.91357, saving model to model/keypoint_classifier\\keypoint_classifier.hdf5\n",
      "Epoch 19/100\n",
      "1/1 [==============================] - 0s 51ms/step - loss: 0.9059 - accuracy: 1.0000 - val_loss: 0.8988 - val_accuracy: 1.0000\n",
      "\n",
      "Epoch 00019: val_loss improved from 0.91357 to 0.89879, saving model to model/keypoint_classifier\\keypoint_classifier.hdf5\n",
      "Epoch 20/100\n",
      "1/1 [==============================] - 0s 52ms/step - loss: 0.8911 - accuracy: 1.0000 - val_loss: 0.8842 - val_accuracy: 1.0000\n",
      "\n",
      "Epoch 00020: val_loss improved from 0.89879 to 0.88416, saving model to model/keypoint_classifier\\keypoint_classifier.hdf5\n",
      "Epoch 21/100\n",
      "1/1 [==============================] - 0s 54ms/step - loss: 0.8761 - accuracy: 1.0000 - val_loss: 0.8701 - val_accuracy: 1.0000\n",
      "\n",
      "Epoch 00021: val_loss improved from 0.88416 to 0.87008, saving model to model/keypoint_classifier\\keypoint_classifier.hdf5\n",
      "Epoch 22/100\n",
      "1/1 [==============================] - 0s 58ms/step - loss: 0.8617 - accuracy: 1.0000 - val_loss: 0.8563 - val_accuracy: 1.0000\n",
      "\n",
      "Epoch 00022: val_loss improved from 0.87008 to 0.85628, saving model to model/keypoint_classifier\\keypoint_classifier.hdf5\n",
      "Epoch 23/100\n",
      "1/1 [==============================] - 0s 49ms/step - loss: 0.8476 - accuracy: 1.0000 - val_loss: 0.8423 - val_accuracy: 1.0000\n",
      "\n",
      "Epoch 00023: val_loss improved from 0.85628 to 0.84229, saving model to model/keypoint_classifier\\keypoint_classifier.hdf5\n",
      "Epoch 24/100\n",
      "1/1 [==============================] - 0s 47ms/step - loss: 0.8334 - accuracy: 1.0000 - val_loss: 0.8281 - val_accuracy: 1.0000\n",
      "\n",
      "Epoch 00024: val_loss improved from 0.84229 to 0.82812, saving model to model/keypoint_classifier\\keypoint_classifier.hdf5\n",
      "Epoch 25/100\n",
      "1/1 [==============================] - 0s 45ms/step - loss: 0.8191 - accuracy: 1.0000 - val_loss: 0.8137 - val_accuracy: 1.0000\n",
      "\n",
      "Epoch 00025: val_loss improved from 0.82812 to 0.81373, saving model to model/keypoint_classifier\\keypoint_classifier.hdf5\n",
      "Epoch 26/100\n",
      "1/1 [==============================] - 0s 52ms/step - loss: 0.8048 - accuracy: 1.0000 - val_loss: 0.7992 - val_accuracy: 1.0000\n",
      "\n",
      "Epoch 00026: val_loss improved from 0.81373 to 0.79917, saving model to model/keypoint_classifier\\keypoint_classifier.hdf5\n",
      "Epoch 27/100\n",
      "1/1 [==============================] - 0s 43ms/step - loss: 0.7903 - accuracy: 1.0000 - val_loss: 0.7845 - val_accuracy: 1.0000\n",
      "\n",
      "Epoch 00027: val_loss improved from 0.79917 to 0.78452, saving model to model/keypoint_classifier\\keypoint_classifier.hdf5\n",
      "Epoch 28/100\n",
      "1/1 [==============================] - 0s 52ms/step - loss: 0.7757 - accuracy: 1.0000 - val_loss: 0.7697 - val_accuracy: 1.0000\n",
      "\n",
      "Epoch 00028: val_loss improved from 0.78452 to 0.76965, saving model to model/keypoint_classifier\\keypoint_classifier.hdf5\n",
      "Epoch 29/100\n",
      "1/1 [==============================] - 0s 57ms/step - loss: 0.7611 - accuracy: 1.0000 - val_loss: 0.7548 - val_accuracy: 1.0000\n",
      "\n",
      "Epoch 00029: val_loss improved from 0.76965 to 0.75480, saving model to model/keypoint_classifier\\keypoint_classifier.hdf5\n",
      "Epoch 30/100\n",
      "1/1 [==============================] - 0s 52ms/step - loss: 0.7463 - accuracy: 1.0000 - val_loss: 0.7400 - val_accuracy: 1.0000\n",
      "\n",
      "Epoch 00030: val_loss improved from 0.75480 to 0.74000, saving model to model/keypoint_classifier\\keypoint_classifier.hdf5\n",
      "Epoch 31/100\n",
      "1/1 [==============================] - 0s 46ms/step - loss: 0.7315 - accuracy: 1.0000 - val_loss: 0.7254 - val_accuracy: 1.0000\n",
      "\n",
      "Epoch 00031: val_loss improved from 0.74000 to 0.72543, saving model to model/keypoint_classifier\\keypoint_classifier.hdf5\n",
      "Epoch 32/100\n",
      "1/1 [==============================] - 0s 52ms/step - loss: 0.7167 - accuracy: 1.0000 - val_loss: 0.7110 - val_accuracy: 1.0000\n",
      "\n",
      "Epoch 00032: val_loss improved from 0.72543 to 0.71098, saving model to model/keypoint_classifier\\keypoint_classifier.hdf5\n",
      "Epoch 33/100\n",
      "1/1 [==============================] - 0s 55ms/step - loss: 0.7018 - accuracy: 1.0000 - val_loss: 0.6966 - val_accuracy: 1.0000\n",
      "\n",
      "Epoch 00033: val_loss improved from 0.71098 to 0.69657, saving model to model/keypoint_classifier\\keypoint_classifier.hdf5\n",
      "Epoch 34/100\n",
      "1/1 [==============================] - 0s 53ms/step - loss: 0.6870 - accuracy: 1.0000 - val_loss: 0.6820 - val_accuracy: 1.0000\n",
      "\n",
      "Epoch 00034: val_loss improved from 0.69657 to 0.68202, saving model to model/keypoint_classifier\\keypoint_classifier.hdf5\n",
      "Epoch 35/100\n",
      "1/1 [==============================] - 0s 62ms/step - loss: 0.6721 - accuracy: 1.0000 - val_loss: 0.6676 - val_accuracy: 1.0000\n",
      "\n",
      "Epoch 00035: val_loss improved from 0.68202 to 0.66763, saving model to model/keypoint_classifier\\keypoint_classifier.hdf5\n",
      "Epoch 36/100\n",
      "1/1 [==============================] - 0s 43ms/step - loss: 0.6574 - accuracy: 1.0000 - val_loss: 0.6535 - val_accuracy: 1.0000\n",
      "\n",
      "Epoch 00036: val_loss improved from 0.66763 to 0.65350, saving model to model/keypoint_classifier\\keypoint_classifier.hdf5\n",
      "Epoch 37/100\n",
      "1/1 [==============================] - 0s 37ms/step - loss: 0.6429 - accuracy: 1.0000 - val_loss: 0.6397 - val_accuracy: 1.0000\n",
      "\n",
      "Epoch 00037: val_loss improved from 0.65350 to 0.63968, saving model to model/keypoint_classifier\\keypoint_classifier.hdf5\n",
      "Epoch 38/100\n",
      "1/1 [==============================] - 0s 34ms/step - loss: 0.6286 - accuracy: 1.0000 - val_loss: 0.6262 - val_accuracy: 1.0000\n",
      "\n",
      "Epoch 00038: val_loss improved from 0.63968 to 0.62620, saving model to model/keypoint_classifier\\keypoint_classifier.hdf5\n",
      "Epoch 39/100\n",
      "1/1 [==============================] - 0s 34ms/step - loss: 0.6146 - accuracy: 1.0000 - val_loss: 0.6130 - val_accuracy: 1.0000\n",
      "\n",
      "Epoch 00039: val_loss improved from 0.62620 to 0.61301, saving model to model/keypoint_classifier\\keypoint_classifier.hdf5\n",
      "Epoch 40/100\n",
      "1/1 [==============================] - 0s 36ms/step - loss: 0.6008 - accuracy: 1.0000 - val_loss: 0.6001 - val_accuracy: 1.0000\n",
      "\n",
      "Epoch 00040: val_loss improved from 0.61301 to 0.60015, saving model to model/keypoint_classifier\\keypoint_classifier.hdf5\n",
      "Epoch 41/100\n",
      "1/1 [==============================] - 0s 33ms/step - loss: 0.5874 - accuracy: 1.0000 - val_loss: 0.5876 - val_accuracy: 1.0000\n",
      "\n",
      "Epoch 00041: val_loss improved from 0.60015 to 0.58757, saving model to model/keypoint_classifier\\keypoint_classifier.hdf5\n",
      "Epoch 42/100\n",
      "1/1 [==============================] - 0s 38ms/step - loss: 0.5742 - accuracy: 1.0000 - val_loss: 0.5752 - val_accuracy: 1.0000\n",
      "\n",
      "Epoch 00042: val_loss improved from 0.58757 to 0.57520, saving model to model/keypoint_classifier\\keypoint_classifier.hdf5\n",
      "Epoch 43/100\n",
      "1/1 [==============================] - 0s 36ms/step - loss: 0.5614 - accuracy: 1.0000 - val_loss: 0.5631 - val_accuracy: 1.0000\n",
      "\n",
      "Epoch 00043: val_loss improved from 0.57520 to 0.56308, saving model to model/keypoint_classifier\\keypoint_classifier.hdf5\n",
      "Epoch 44/100\n",
      "1/1 [==============================] - 0s 38ms/step - loss: 0.5488 - accuracy: 1.0000 - val_loss: 0.5512 - val_accuracy: 1.0000\n",
      "\n",
      "Epoch 00044: val_loss improved from 0.56308 to 0.55124, saving model to model/keypoint_classifier\\keypoint_classifier.hdf5\n",
      "Epoch 45/100\n",
      "1/1 [==============================] - 0s 34ms/step - loss: 0.5367 - accuracy: 1.0000 - val_loss: 0.5397 - val_accuracy: 1.0000\n",
      "\n",
      "Epoch 00045: val_loss improved from 0.55124 to 0.53971, saving model to model/keypoint_classifier\\keypoint_classifier.hdf5\n",
      "Epoch 46/100\n",
      "1/1 [==============================] - 0s 36ms/step - loss: 0.5249 - accuracy: 1.0000 - val_loss: 0.5287 - val_accuracy: 1.0000\n",
      "\n",
      "Epoch 00046: val_loss improved from 0.53971 to 0.52867, saving model to model/keypoint_classifier\\keypoint_classifier.hdf5\n",
      "Epoch 47/100\n",
      "1/1 [==============================] - 0s 32ms/step - loss: 0.5135 - accuracy: 1.0000 - val_loss: 0.5180 - val_accuracy: 1.0000\n",
      "\n",
      "Epoch 00047: val_loss improved from 0.52867 to 0.51805, saving model to model/keypoint_classifier\\keypoint_classifier.hdf5\n",
      "Epoch 48/100\n",
      "1/1 [==============================] - 0s 36ms/step - loss: 0.5026 - accuracy: 1.0000 - val_loss: 0.5077 - val_accuracy: 1.0000\n",
      "\n",
      "Epoch 00048: val_loss improved from 0.51805 to 0.50770, saving model to model/keypoint_classifier\\keypoint_classifier.hdf5\n",
      "Epoch 49/100\n",
      "1/1 [==============================] - 0s 37ms/step - loss: 0.4920 - accuracy: 1.0000 - val_loss: 0.4977 - val_accuracy: 1.0000\n",
      "\n",
      "Epoch 00049: val_loss improved from 0.50770 to 0.49772, saving model to model/keypoint_classifier\\keypoint_classifier.hdf5\n",
      "Epoch 50/100\n",
      "1/1 [==============================] - 0s 33ms/step - loss: 0.4819 - accuracy: 1.0000 - val_loss: 0.4881 - val_accuracy: 1.0000\n",
      "\n",
      "Epoch 00050: val_loss improved from 0.49772 to 0.48809, saving model to model/keypoint_classifier\\keypoint_classifier.hdf5\n",
      "Epoch 51/100\n",
      "1/1 [==============================] - 0s 37ms/step - loss: 0.4722 - accuracy: 1.0000 - val_loss: 0.4788 - val_accuracy: 1.0000\n",
      "\n",
      "Epoch 00051: val_loss improved from 0.48809 to 0.47882, saving model to model/keypoint_classifier\\keypoint_classifier.hdf5\n",
      "Epoch 52/100\n",
      "1/1 [==============================] - 0s 35ms/step - loss: 0.4628 - accuracy: 1.0000 - val_loss: 0.4699 - val_accuracy: 1.0000\n",
      "\n",
      "Epoch 00052: val_loss improved from 0.47882 to 0.46989, saving model to model/keypoint_classifier\\keypoint_classifier.hdf5\n",
      "Epoch 53/100\n",
      "1/1 [==============================] - 0s 36ms/step - loss: 0.4536 - accuracy: 1.0000 - val_loss: 0.4613 - val_accuracy: 1.0000\n",
      "\n",
      "Epoch 00053: val_loss improved from 0.46989 to 0.46127, saving model to model/keypoint_classifier\\keypoint_classifier.hdf5\n",
      "Epoch 54/100\n",
      "1/1 [==============================] - 0s 34ms/step - loss: 0.4448 - accuracy: 1.0000 - val_loss: 0.4531 - val_accuracy: 1.0000\n",
      "\n",
      "Epoch 00054: val_loss improved from 0.46127 to 0.45305, saving model to model/keypoint_classifier\\keypoint_classifier.hdf5\n",
      "Epoch 55/100\n",
      "1/1 [==============================] - 0s 36ms/step - loss: 0.4362 - accuracy: 1.0000 - val_loss: 0.4451 - val_accuracy: 1.0000\n",
      "\n",
      "Epoch 00055: val_loss improved from 0.45305 to 0.44510, saving model to model/keypoint_classifier\\keypoint_classifier.hdf5\n",
      "Epoch 56/100\n",
      "1/1 [==============================] - 0s 33ms/step - loss: 0.4279 - accuracy: 1.0000 - val_loss: 0.4372 - val_accuracy: 1.0000\n",
      "\n",
      "Epoch 00056: val_loss improved from 0.44510 to 0.43721, saving model to model/keypoint_classifier\\keypoint_classifier.hdf5\n",
      "Epoch 57/100\n",
      "1/1 [==============================] - 0s 31ms/step - loss: 0.4199 - accuracy: 1.0000 - val_loss: 0.4296 - val_accuracy: 1.0000\n",
      "\n",
      "Epoch 00057: val_loss improved from 0.43721 to 0.42958, saving model to model/keypoint_classifier\\keypoint_classifier.hdf5\n",
      "Epoch 58/100\n",
      "1/1 [==============================] - 0s 32ms/step - loss: 0.4120 - accuracy: 1.0000 - val_loss: 0.4221 - val_accuracy: 1.0000\n",
      "\n",
      "Epoch 00058: val_loss improved from 0.42958 to 0.42207, saving model to model/keypoint_classifier\\keypoint_classifier.hdf5\n",
      "Epoch 59/100\n",
      "1/1 [==============================] - 0s 33ms/step - loss: 0.4043 - accuracy: 1.0000 - val_loss: 0.4148 - val_accuracy: 1.0000\n",
      "\n",
      "Epoch 00059: val_loss improved from 0.42207 to 0.41480, saving model to model/keypoint_classifier\\keypoint_classifier.hdf5\n",
      "Epoch 60/100\n",
      "1/1 [==============================] - 0s 33ms/step - loss: 0.3970 - accuracy: 1.0000 - val_loss: 0.4078 - val_accuracy: 1.0000\n",
      "\n",
      "Epoch 00060: val_loss improved from 0.41480 to 0.40781, saving model to model/keypoint_classifier\\keypoint_classifier.hdf5\n",
      "Epoch 61/100\n",
      "1/1 [==============================] - 0s 39ms/step - loss: 0.3899 - accuracy: 1.0000 - val_loss: 0.4011 - val_accuracy: 1.0000\n",
      "\n",
      "Epoch 00061: val_loss improved from 0.40781 to 0.40109, saving model to model/keypoint_classifier\\keypoint_classifier.hdf5\n",
      "Epoch 62/100\n",
      "1/1 [==============================] - 0s 42ms/step - loss: 0.3830 - accuracy: 1.0000 - val_loss: 0.3946 - val_accuracy: 1.0000\n",
      "\n",
      "Epoch 00062: val_loss improved from 0.40109 to 0.39457, saving model to model/keypoint_classifier\\keypoint_classifier.hdf5\n",
      "Epoch 63/100\n",
      "1/1 [==============================] - 0s 39ms/step - loss: 0.3763 - accuracy: 1.0000 - val_loss: 0.3882 - val_accuracy: 1.0000\n",
      "\n",
      "Epoch 00063: val_loss improved from 0.39457 to 0.38819, saving model to model/keypoint_classifier\\keypoint_classifier.hdf5\n",
      "Epoch 64/100\n",
      "1/1 [==============================] - 0s 34ms/step - loss: 0.3697 - accuracy: 1.0000 - val_loss: 0.3820 - val_accuracy: 1.0000\n",
      "\n",
      "Epoch 00064: val_loss improved from 0.38819 to 0.38200, saving model to model/keypoint_classifier\\keypoint_classifier.hdf5\n",
      "Epoch 65/100\n",
      "1/1 [==============================] - 0s 40ms/step - loss: 0.3634 - accuracy: 1.0000 - val_loss: 0.3759 - val_accuracy: 1.0000\n",
      "\n",
      "Epoch 00065: val_loss improved from 0.38200 to 0.37586, saving model to model/keypoint_classifier\\keypoint_classifier.hdf5\n",
      "Epoch 66/100\n",
      "1/1 [==============================] - 0s 40ms/step - loss: 0.3572 - accuracy: 1.0000 - val_loss: 0.3698 - val_accuracy: 1.0000\n",
      "\n",
      "Epoch 00066: val_loss improved from 0.37586 to 0.36977, saving model to model/keypoint_classifier\\keypoint_classifier.hdf5\n",
      "Epoch 67/100\n",
      "1/1 [==============================] - 0s 36ms/step - loss: 0.3510 - accuracy: 1.0000 - val_loss: 0.3637 - val_accuracy: 1.0000\n",
      "\n",
      "Epoch 00067: val_loss improved from 0.36977 to 0.36372, saving model to model/keypoint_classifier\\keypoint_classifier.hdf5\n",
      "Epoch 68/100\n",
      "1/1 [==============================] - 0s 30ms/step - loss: 0.3449 - accuracy: 1.0000 - val_loss: 0.3576 - val_accuracy: 1.0000\n",
      "\n",
      "Epoch 00068: val_loss improved from 0.36372 to 0.35764, saving model to model/keypoint_classifier\\keypoint_classifier.hdf5\n",
      "Epoch 69/100\n",
      "1/1 [==============================] - 0s 32ms/step - loss: 0.3389 - accuracy: 1.0000 - val_loss: 0.3516 - val_accuracy: 1.0000\n",
      "\n",
      "Epoch 00069: val_loss improved from 0.35764 to 0.35159, saving model to model/keypoint_classifier\\keypoint_classifier.hdf5\n",
      "Epoch 70/100\n",
      "1/1 [==============================] - 0s 34ms/step - loss: 0.3329 - accuracy: 1.0000 - val_loss: 0.3457 - val_accuracy: 1.0000\n",
      "\n",
      "Epoch 00070: val_loss improved from 0.35159 to 0.34567, saving model to model/keypoint_classifier\\keypoint_classifier.hdf5\n",
      "Epoch 71/100\n",
      "1/1 [==============================] - 0s 35ms/step - loss: 0.3270 - accuracy: 1.0000 - val_loss: 0.3399 - val_accuracy: 1.0000\n",
      "\n",
      "Epoch 00071: val_loss improved from 0.34567 to 0.33987, saving model to model/keypoint_classifier\\keypoint_classifier.hdf5\n",
      "Epoch 72/100\n",
      "1/1 [==============================] - 0s 38ms/step - loss: 0.3210 - accuracy: 1.0000 - val_loss: 0.3342 - val_accuracy: 1.0000\n",
      "\n",
      "Epoch 00072: val_loss improved from 0.33987 to 0.33416, saving model to model/keypoint_classifier\\keypoint_classifier.hdf5\n",
      "Epoch 73/100\n",
      "1/1 [==============================] - 0s 34ms/step - loss: 0.3152 - accuracy: 1.0000 - val_loss: 0.3282 - val_accuracy: 1.0000\n",
      "\n",
      "Epoch 00073: val_loss improved from 0.33416 to 0.32824, saving model to model/keypoint_classifier\\keypoint_classifier.hdf5\n",
      "Epoch 74/100\n",
      "1/1 [==============================] - 0s 32ms/step - loss: 0.3094 - accuracy: 1.0000 - val_loss: 0.3223 - val_accuracy: 1.0000\n",
      "\n",
      "Epoch 00074: val_loss improved from 0.32824 to 0.32229, saving model to model/keypoint_classifier\\keypoint_classifier.hdf5\n",
      "Epoch 75/100\n",
      "1/1 [==============================] - 0s 34ms/step - loss: 0.3036 - accuracy: 1.0000 - val_loss: 0.3163 - val_accuracy: 1.0000\n",
      "\n",
      "Epoch 00075: val_loss improved from 0.32229 to 0.31631, saving model to model/keypoint_classifier\\keypoint_classifier.hdf5\n",
      "Epoch 76/100\n",
      "1/1 [==============================] - 0s 39ms/step - loss: 0.2979 - accuracy: 1.0000 - val_loss: 0.3103 - val_accuracy: 1.0000\n",
      "\n",
      "Epoch 00076: val_loss improved from 0.31631 to 0.31029, saving model to model/keypoint_classifier\\keypoint_classifier.hdf5\n",
      "Epoch 77/100\n",
      "1/1 [==============================] - 0s 37ms/step - loss: 0.2922 - accuracy: 1.0000 - val_loss: 0.3043 - val_accuracy: 1.0000\n",
      "\n",
      "Epoch 00077: val_loss improved from 0.31029 to 0.30426, saving model to model/keypoint_classifier\\keypoint_classifier.hdf5\n",
      "Epoch 78/100\n",
      "1/1 [==============================] - 0s 36ms/step - loss: 0.2864 - accuracy: 1.0000 - val_loss: 0.2980 - val_accuracy: 1.0000\n",
      "\n",
      "Epoch 00078: val_loss improved from 0.30426 to 0.29804, saving model to model/keypoint_classifier\\keypoint_classifier.hdf5\n",
      "Epoch 79/100\n",
      "1/1 [==============================] - 0s 36ms/step - loss: 0.2804 - accuracy: 1.0000 - val_loss: 0.2913 - val_accuracy: 1.0000\n",
      "\n",
      "Epoch 00079: val_loss improved from 0.29804 to 0.29131, saving model to model/keypoint_classifier\\keypoint_classifier.hdf5\n",
      "Epoch 80/100\n",
      "1/1 [==============================] - 0s 41ms/step - loss: 0.2740 - accuracy: 1.0000 - val_loss: 0.2836 - val_accuracy: 1.0000\n",
      "\n",
      "Epoch 00080: val_loss improved from 0.29131 to 0.28356, saving model to model/keypoint_classifier\\keypoint_classifier.hdf5\n",
      "Epoch 81/100\n",
      "1/1 [==============================] - 0s 34ms/step - loss: 0.2665 - accuracy: 1.0000 - val_loss: 0.2749 - val_accuracy: 1.0000\n",
      "\n",
      "Epoch 00081: val_loss improved from 0.28356 to 0.27494, saving model to model/keypoint_classifier\\keypoint_classifier.hdf5\n",
      "Epoch 82/100\n",
      "1/1 [==============================] - 0s 32ms/step - loss: 0.2583 - accuracy: 1.0000 - val_loss: 0.2679 - val_accuracy: 1.0000\n",
      "\n",
      "Epoch 00082: val_loss improved from 0.27494 to 0.26793, saving model to model/keypoint_classifier\\keypoint_classifier.hdf5\n",
      "Epoch 83/100\n",
      "1/1 [==============================] - 0s 35ms/step - loss: 0.2507 - accuracy: 1.0000 - val_loss: 0.2615 - val_accuracy: 1.0000\n",
      "\n",
      "Epoch 00083: val_loss improved from 0.26793 to 0.26154, saving model to model/keypoint_classifier\\keypoint_classifier.hdf5\n",
      "Epoch 84/100\n",
      "1/1 [==============================] - 0s 35ms/step - loss: 0.2438 - accuracy: 1.0000 - val_loss: 0.2549 - val_accuracy: 1.0000\n",
      "\n",
      "Epoch 00084: val_loss improved from 0.26154 to 0.25492, saving model to model/keypoint_classifier\\keypoint_classifier.hdf5\n",
      "Epoch 85/100\n",
      "1/1 [==============================] - 0s 44ms/step - loss: 0.2369 - accuracy: 1.0000 - val_loss: 0.2479 - val_accuracy: 1.0000\n",
      "\n",
      "Epoch 00085: val_loss improved from 0.25492 to 0.24794, saving model to model/keypoint_classifier\\keypoint_classifier.hdf5\n",
      "Epoch 86/100\n",
      "1/1 [==============================] - 0s 38ms/step - loss: 0.2299 - accuracy: 1.0000 - val_loss: 0.2407 - val_accuracy: 1.0000\n",
      "\n",
      "Epoch 00086: val_loss improved from 0.24794 to 0.24071, saving model to model/keypoint_classifier\\keypoint_classifier.hdf5\n",
      "Epoch 87/100\n",
      "1/1 [==============================] - 0s 43ms/step - loss: 0.2227 - accuracy: 1.0000 - val_loss: 0.2334 - val_accuracy: 1.0000\n",
      "\n",
      "Epoch 00087: val_loss improved from 0.24071 to 0.23337, saving model to model/keypoint_classifier\\keypoint_classifier.hdf5\n",
      "Epoch 88/100\n",
      "1/1 [==============================] - 0s 38ms/step - loss: 0.2156 - accuracy: 1.0000 - val_loss: 0.2259 - val_accuracy: 1.0000\n",
      "\n",
      "Epoch 00088: val_loss improved from 0.23337 to 0.22592, saving model to model/keypoint_classifier\\keypoint_classifier.hdf5\n",
      "Epoch 89/100\n",
      "1/1 [==============================] - 0s 38ms/step - loss: 0.2084 - accuracy: 1.0000 - val_loss: 0.2184 - val_accuracy: 1.0000\n",
      "\n",
      "Epoch 00089: val_loss improved from 0.22592 to 0.21843, saving model to model/keypoint_classifier\\keypoint_classifier.hdf5\n",
      "Epoch 90/100\n",
      "1/1 [==============================] - 0s 45ms/step - loss: 0.2013 - accuracy: 1.0000 - val_loss: 0.2110 - val_accuracy: 1.0000\n",
      "\n",
      "Epoch 00090: val_loss improved from 0.21843 to 0.21098, saving model to model/keypoint_classifier\\keypoint_classifier.hdf5\n",
      "Epoch 91/100\n",
      "1/1 [==============================] - 0s 34ms/step - loss: 0.1941 - accuracy: 1.0000 - val_loss: 0.2036 - val_accuracy: 1.0000\n",
      "\n",
      "Epoch 00091: val_loss improved from 0.21098 to 0.20365, saving model to model/keypoint_classifier\\keypoint_classifier.hdf5\n",
      "Epoch 92/100\n",
      "1/1 [==============================] - 0s 34ms/step - loss: 0.1871 - accuracy: 1.0000 - val_loss: 0.1965 - val_accuracy: 1.0000\n",
      "\n",
      "Epoch 00092: val_loss improved from 0.20365 to 0.19647, saving model to model/keypoint_classifier\\keypoint_classifier.hdf5\n",
      "Epoch 93/100\n",
      "1/1 [==============================] - 0s 37ms/step - loss: 0.1802 - accuracy: 1.0000 - val_loss: 0.1896 - val_accuracy: 1.0000\n",
      "\n",
      "Epoch 00093: val_loss improved from 0.19647 to 0.18964, saving model to model/keypoint_classifier\\keypoint_classifier.hdf5\n",
      "Epoch 94/100\n",
      "1/1 [==============================] - 0s 39ms/step - loss: 0.1737 - accuracy: 1.0000 - val_loss: 0.1835 - val_accuracy: 1.0000\n",
      "\n",
      "Epoch 00094: val_loss improved from 0.18964 to 0.18352, saving model to model/keypoint_classifier\\keypoint_classifier.hdf5\n",
      "Epoch 95/100\n",
      "1/1 [==============================] - 0s 33ms/step - loss: 0.1675 - accuracy: 1.0000 - val_loss: 0.1773 - val_accuracy: 1.0000\n",
      "\n",
      "Epoch 00095: val_loss improved from 0.18352 to 0.17728, saving model to model/keypoint_classifier\\keypoint_classifier.hdf5\n",
      "Epoch 96/100\n",
      "1/1 [==============================] - 0s 34ms/step - loss: 0.1613 - accuracy: 1.0000 - val_loss: 0.1710 - val_accuracy: 1.0000\n",
      "\n",
      "Epoch 00096: val_loss improved from 0.17728 to 0.17099, saving model to model/keypoint_classifier\\keypoint_classifier.hdf5\n",
      "Epoch 97/100\n",
      "1/1 [==============================] - 0s 39ms/step - loss: 0.1552 - accuracy: 1.0000 - val_loss: 0.1648 - val_accuracy: 1.0000\n",
      "\n",
      "Epoch 00097: val_loss improved from 0.17099 to 0.16481, saving model to model/keypoint_classifier\\keypoint_classifier.hdf5\n",
      "Epoch 98/100\n",
      "1/1 [==============================] - 0s 40ms/step - loss: 0.1491 - accuracy: 1.0000 - val_loss: 0.1588 - val_accuracy: 1.0000\n",
      "\n",
      "Epoch 00098: val_loss improved from 0.16481 to 0.15883, saving model to model/keypoint_classifier\\keypoint_classifier.hdf5\n",
      "Epoch 99/100\n",
      "1/1 [==============================] - 0s 33ms/step - loss: 0.1434 - accuracy: 1.0000 - val_loss: 0.1531 - val_accuracy: 1.0000\n",
      "\n",
      "Epoch 00099: val_loss improved from 0.15883 to 0.15311, saving model to model/keypoint_classifier\\keypoint_classifier.hdf5\n",
      "Epoch 100/100\n",
      "1/1 [==============================] - 0s 35ms/step - loss: 0.1379 - accuracy: 1.0000 - val_loss: 0.1475 - val_accuracy: 1.0000\n",
      "\n",
      "Epoch 00100: val_loss improved from 0.15311 to 0.14749, saving model to model/keypoint_classifier\\keypoint_classifier.hdf5\n"
     ]
    },
    {
     "data": {
      "text/plain": "<tensorflow.python.keras.callbacks.History at 0x1a974227288>"
     },
     "execution_count": 129,
     "metadata": {},
     "output_type": "execute_result"
    }
   ],
   "source": [
    "model.fit(\n",
    "    X_train,\n",
    "    y_train,\n",
    "    epochs=100,\n",
    "    batch_size=64,\n",
    "    validation_data=(X_test, y_test),\n",
    "    callbacks=[cp_callback, es_callback]\n",
    ")"
   ]
  },
  {
   "cell_type": "code",
   "execution_count": 130,
   "metadata": {
    "id": "RBkmDeUW9hE4",
    "pycharm": {
     "name": "#%%\n"
    }
   },
   "outputs": [],
   "source": [
    "# Loading the saved model\n",
    "model = tf.keras.models.load_model(model_save_path)"
   ]
  },
  {
   "cell_type": "code",
   "execution_count": 131,
   "metadata": {
    "colab": {
     "base_uri": "https://localhost:8080/"
    },
    "id": "pxvb2Y299hE3",
    "outputId": "7015e279-0501-4f24-d1b5-90652d2de17d",
    "pycharm": {
     "name": "#%%\n"
    }
   },
   "outputs": [
    {
     "name": "stdout",
     "output_type": "stream",
     "text": [
      "1/1 [==============================] - 0s 77ms/step - loss: 0.1475 - accuracy: 1.0000\n"
     ]
    }
   ],
   "source": [
    "# Model evaluation\n",
    "# TODO Test on loaded model\n",
    "val_loss, val_acc = model.evaluate(X_test, y_test, batch_size=64)"
   ]
  },
  {
   "cell_type": "code",
   "execution_count": 132,
   "metadata": {
    "colab": {
     "base_uri": "https://localhost:8080/"
    },
    "id": "tFz9Tb0I9hE4",
    "outputId": "bb8a62a9-bf7d-4d99-8099-bda4e2e1c73a",
    "pycharm": {
     "name": "#%%\n"
    }
   },
   "outputs": [
    {
     "name": "stdout",
     "output_type": "stream",
     "text": [
      "[0.00692671 0.72277653 0.2702968 ]\n",
      "1\n"
     ]
    }
   ],
   "source": [
    "# Inference test\n",
    "predict_result = model.predict(np.array([X_test[0]]))\n",
    "print(np.squeeze(predict_result))\n",
    "print(np.argmax(np.squeeze(predict_result)))"
   ]
  },
  {
   "cell_type": "markdown",
   "metadata": {
    "id": "S3U4yNWx9hE4",
    "pycharm": {
     "name": "#%% md\n"
    }
   },
   "source": [
    "# Confusion matrix"
   ]
  },
  {
   "cell_type": "code",
   "execution_count": 133,
   "metadata": {
    "colab": {
     "base_uri": "https://localhost:8080/",
     "height": 646
    },
    "id": "AP1V6SCk9hE5",
    "outputId": "efce96b9-ca1c-44a5-ef77-58f1d5fc154c",
    "pycharm": {
     "name": "#%%\n"
    }
   },
   "outputs": [],
   "source": [
    "# import pandas as pd\n",
    "# import seaborn as sns\n",
    "# import matplotlib.pyplot as plt\n",
    "# from sklearn.metrics import confusion_matrix, classification_report\n",
    "#\n",
    "# def print_confusion_matrix(y_true, y_pred, report=True):\n",
    "#     labels = sorted(list(set(y_true)))\n",
    "#     cmx_data = confusion_matrix(y_true, y_pred, labels=labels)\n",
    "#\n",
    "#     df_cmx = pd.DataFrame(cmx_data, index=labels, columns=labels)\n",
    "#\n",
    "#     fig, ax = plt.subplots(figsize=(7, 6))\n",
    "#     sns.heatmap(df_cmx, annot=True, fmt='g' ,square=False)\n",
    "#     ax.set_ylim(len(set(y_true)), 0)\n",
    "#     plt.show()\n",
    "#\n",
    "#     if report:\n",
    "#         print('Classification Report')\n",
    "#         print(classification_report(y_test, y_pred))\n",
    "#\n",
    "# Y_pred = model.predict(X_test)\n",
    "# y_pred = np.argmax(Y_pred, axis=1)\n",
    "#\n",
    "# print_confusion_matrix(y_test, y_pred)"
   ]
  },
  {
   "cell_type": "markdown",
   "metadata": {
    "id": "FNP6aqzc9hE5",
    "pycharm": {
     "name": "#%% md\n"
    }
   },
   "source": [
    "# Convert to model for Tensorflow-Lite"
   ]
  },
  {
   "cell_type": "code",
   "execution_count": 134,
   "metadata": {
    "id": "ODjnYyld9hE6",
    "pycharm": {
     "name": "#%%\n"
    }
   },
   "outputs": [],
   "source": [
    "# Save as a model dedicated to inference\n",
    "model.save(model_save_path, include_optimizer=False)"
   ]
  },
  {
   "cell_type": "code",
   "execution_count": 135,
   "metadata": {
    "colab": {
     "base_uri": "https://localhost:8080/"
    },
    "id": "zRfuK8Y59hE6",
    "outputId": "106250fb-84e1-4ee8-bc8e-dcedb2bfd31c",
    "pycharm": {
     "name": "#%%\n"
    }
   },
   "outputs": [
    {
     "name": "stdout",
     "output_type": "stream",
     "text": [
      "INFO:tensorflow:Assets written to: C:\\Users\\Zilan\\AppData\\Local\\Temp\\tmpwzilfpbz\\assets\n"
     ]
    },
    {
     "name": "stderr",
     "output_type": "stream",
     "text": [
      "INFO:tensorflow:Assets written to: C:\\Users\\Zilan\\AppData\\Local\\Temp\\tmpwzilfpbz\\assets\n"
     ]
    },
    {
     "data": {
      "text/plain": "7376"
     },
     "execution_count": 135,
     "metadata": {},
     "output_type": "execute_result"
    }
   ],
   "source": [
    "# Transform model (quantization)\n",
    "\n",
    "converter = tf.lite.TFLiteConverter.from_keras_model(model)\n",
    "converter.optimizations = [tf.lite.Optimize.DEFAULT]\n",
    "tflite_quantized_model = converter.convert()\n",
    "\n",
    "open(tflite_save_path, 'wb').write(tflite_quantized_model)"
   ]
  },
  {
   "cell_type": "markdown",
   "metadata": {
    "id": "CHBPBXdx9hE6",
    "pycharm": {
     "name": "#%% md\n"
    }
   },
   "source": [
    "## Inference test"
   ]
  },
  {
   "cell_type": "code",
   "execution_count": 136,
   "metadata": {
    "id": "mGAzLocO9hE7",
    "pycharm": {
     "name": "#%%\n"
    }
   },
   "outputs": [],
   "source": [
    "interpreter = tf.lite.Interpreter(model_path=tflite_save_path)\n",
    "interpreter.allocate_tensors()"
   ]
  },
  {
   "cell_type": "code",
   "execution_count": 137,
   "metadata": {
    "id": "oQuDK8YS9hE7",
    "pycharm": {
     "name": "#%%\n"
    }
   },
   "outputs": [],
   "source": [
    "# Get I / O tensor\n",
    "input_details = interpreter.get_input_details()\n",
    "output_details = interpreter.get_output_details()"
   ]
  },
  {
   "cell_type": "code",
   "execution_count": 138,
   "metadata": {
    "id": "2_ixAf_l9hE7",
    "pycharm": {
     "name": "#%%\n"
    }
   },
   "outputs": [],
   "source": [
    "interpreter.set_tensor(input_details[0]['index'], np.array([X_test[0]]))"
   ]
  },
  {
   "cell_type": "code",
   "execution_count": 139,
   "metadata": {
    "colab": {
     "base_uri": "https://localhost:8080/"
    },
    "id": "s4FoAnuc9hE7",
    "outputId": "330d050b-a3fb-41ce-fa07-dc7a48d715e7",
    "scrolled": true,
    "pycharm": {
     "name": "#%%\n"
    }
   },
   "outputs": [
    {
     "name": "stdout",
     "output_type": "stream",
     "text": [
      "Wall time: 0 ns\n"
     ]
    }
   ],
   "source": [
    "%%time\n",
    "# Inference implementation\n",
    "interpreter.invoke()\n",
    "tflite_results = interpreter.get_tensor(output_details[0]['index'])"
   ]
  },
  {
   "cell_type": "code",
   "execution_count": 140,
   "outputs": [
    {
     "name": "stdout",
     "output_type": "stream",
     "text": [
      "[0.00694299 0.7221008  0.27095625]\n",
      "1\n"
     ]
    }
   ],
   "source": [
    "print(np.squeeze(tflite_results))\n",
    "print(np.argmax(np.squeeze(tflite_results)))"
   ],
   "metadata": {
    "collapsed": false,
    "pycharm": {
     "name": "#%%\n"
    }
   }
  },
  {
   "cell_type": "code",
   "execution_count": 141,
   "outputs": [],
   "source": [
    "verb_list = ['VB','VBD','VBN']\n"
   ],
   "metadata": {
    "collapsed": false,
    "pycharm": {
     "name": "#%%\n"
    }
   }
  },
  {
   "cell_type": "code",
   "execution_count": 142,
   "outputs": [
    {
     "data": {
      "text/plain": "'VB'"
     },
     "execution_count": 142,
     "metadata": {},
     "output_type": "execute_result"
    }
   ],
   "source": [
    "nltk.pos_tag([\"take\"])[0][1]"
   ],
   "metadata": {
    "collapsed": false,
    "pycharm": {
     "name": "#%%\n"
    }
   }
  },
  {
   "cell_type": "code",
   "execution_count": 143,
   "outputs": [],
   "source": [
    "verb_list = ['VB','VBD','VBN','IN']"
   ],
   "metadata": {
    "collapsed": false,
    "pycharm": {
     "name": "#%%\n"
    }
   }
  },
  {
   "cell_type": "code",
   "execution_count": null,
   "outputs": [],
   "source": [],
   "metadata": {
    "collapsed": false,
    "pycharm": {
     "name": "#%%\n"
    }
   }
  }
 ],
 "metadata": {
  "accelerator": "GPU",
  "colab": {
   "collapsed_sections": [],
   "name": "Keypoint_model_training.ipynb",
   "provenance": [],
   "toc_visible": true
  },
  "kernelspec": {
   "display_name": "Python 3.7.13 ('gesture')",
   "language": "python",
   "name": "python3"
  },
  "language_info": {
   "codemirror_mode": {
    "name": "ipython",
    "version": 3
   },
   "file_extension": ".py",
   "mimetype": "text/x-python",
   "name": "python",
   "nbconvert_exporter": "python",
   "pygments_lexer": "ipython3",
   "version": "3.7.13"
  },
  "vscode": {
   "interpreter": {
    "hash": "fbb4751573065a8705c62d46e61485f72b0fca33c87cbc4dfaa4a1c7d29d1996"
   }
  }
 },
 "nbformat": 4,
 "nbformat_minor": 0
}